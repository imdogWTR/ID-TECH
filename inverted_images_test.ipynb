{
 "cells": [
  {
   "cell_type": "markdown",
   "metadata": {
    "id": "GBa8UUaPrgaR"
   },
   "source": [
    "# Intro to Convolutional Neural Networks\n",
    "\n",
    "So far you have been working with fully connected, or densely connected networks. These networks work well for extremely well-defined problems, like with the MNIST dataset, but it isn't very good at extracting more general information about a picture."
   ]
  },
  {
   "cell_type": "code",
   "execution_count": 110,
   "metadata": {
    "id": "53zaUfyyrZak"
   },
   "outputs": [],
   "source": [
    "# Import the image library from keras.preprocessing.\n",
    "from keras.preprocessing import image\n",
    "\n",
    "# Import the Image and ImageChops library from the pillow library.\n",
    "from PIL import Image, ImageChops\n",
    "\n",
    "# Import TensorFlow and Keras to create the neural network.\n",
    "import tensorflow as tf\n",
    "from tensorflow import keras\n",
    "\n",
    "\n",
    "# Import the MNIST dataset and backend as K.\n",
    "from tensorflow.keras.datasets import mnist\n",
    "from tensorflow.keras import backend as K\n",
    "\n",
    "\n",
    "# Import NumPy and Matplotlib libraries\n",
    "import numpy as np\n",
    "import matplotlib.pyplot as plt\n",
    "%matplotlib inline"
   ]
  },
  {
   "cell_type": "markdown",
   "metadata": {
    "id": "_pM8rm5C9B9B"
   },
   "source": [
    "# Testing your Network\n",
    "Now that you've imported and setup the libraries, you'll test your densely connected network by loading the MNIST data and printing the network's predictions."
   ]
  },
  {
   "cell_type": "markdown",
   "metadata": {
    "id": "y-MZB5J22ZlA"
   },
   "source": [
    "## Load the Data\n"
   ]
  },
  {
   "cell_type": "code",
   "execution_count": 111,
   "metadata": {
    "id": "u-ZMxu-k2c1q"
   },
   "outputs": [],
   "source": [
    "# Load the MNIST Data\n",
    "def show_min_max(array, i):\n",
    "    random_image = array[i]\n",
    "    print(random_image.min(), random_image.max())"
   ]
  },
  {
   "cell_type": "code",
   "execution_count": 112,
   "metadata": {
    "id": "G4pbttWj2ynP"
   },
   "outputs": [],
   "source": [
    "# Create a function that will plot a image from the dataset and display the image.\n",
    "def plot_image(array, i, labels):\n",
    "  plt.imshow(np.squeeze(array[i]))\n",
    "  plt.title(\" Digit \" + str(labels[i]))\n",
    "  plt.xticks([])\n",
    "  plt.yticks([])\n",
    "  plt.show()"
   ]
  },
  {
   "cell_type": "code",
   "execution_count": 113,
   "metadata": {
    "id": "qIqEGcBC3CQ2"
   },
   "outputs": [],
   "source": [
    "# Create a function called predict_image that will print the densely connected network's prediction for the image.\n",
    "def predict_image(model, x):\n",
    "  x = x.astype('float32')\n",
    "  x = x / 255.0\n",
    "\n",
    "  x = np.expand_dims(x, axis=0)\n",
    "\n",
    "  image_predict = model.predict(x, verbose=0)\n",
    "  print(\"Predicted Label: \", np.argmax(image_predict))\n",
    "\n",
    "  plt.imshow(np.squeeze(x))\n",
    "  plt.xticks([])\n",
    "  plt.yticks([])\n",
    "  plt.show()\n",
    "  return image_predict"
   ]
  },
  {
   "cell_type": "code",
   "execution_count": 114,
   "metadata": {
    "id": "khJAKF2R3xsU"
   },
   "outputs": [],
   "source": [
    "# Create a function called plot_value_array that will plot the image and predicted value.\n",
    "def plot_value_array(predictions_array, true_label, h):\n",
    "  plt.grid(False)\n",
    "  plt.xticks(range(10))\n",
    "  plt.yticks([])\n",
    "  thisplot = plt.bar(range(10), predictions_array[0], color=\"#777777\")\n",
    "  plt.ylim([(-1*h), h])\n",
    "  predicted_label = np.argmax(predictions_array)\n",
    "  thisplot[predicted_label].set_color('red')\n",
    "  thisplot[true_label].set_color('blue')\n",
    "  plt.show()"
   ]
  },
  {
   "cell_type": "code",
   "execution_count": 115,
   "metadata": {
    "id": "MLY1MPHw6KBk"
   },
   "outputs": [],
   "source": [
    "# Load the 'my_model.h5'\n",
    "model = tf.keras.models.load_model('my_model.h5')"
   ]
  },
  {
   "cell_type": "markdown",
   "metadata": {
    "id": "RMIjUUqylMSE"
   },
   "source": [
    "## Testing the Network"
   ]
  },
  {
   "cell_type": "code",
   "execution_count": 116,
   "metadata": {
    "id": "l4trq1UsnWXA"
   },
   "outputs": [],
   "source": [
    "# Load and preprocess a test image for the network.\n",
    "path = \"invertedTest.jpg\"\n",
    "\n",
    "img = tf.keras.preprocessing.image.load_img(path, target_size=(28,28), color_mode = \"grayscale\")\n",
    "x = tf.keras.preprocessing.image.img_to_array(img)"
   ]
  },
  {
   "cell_type": "code",
   "execution_count": 117,
   "metadata": {
    "id": "mo0gjebcnlPz"
   },
   "outputs": [
    {
     "name": "stdout",
     "output_type": "stream",
     "text": [
      "WARNING:tensorflow:5 out of the last 7 calls to <function Model.make_predict_function.<locals>.predict_function at 0x0000025102A3E680> triggered tf.function retracing. Tracing is expensive and the excessive number of tracings could be due to (1) creating @tf.function repeatedly in a loop, (2) passing tensors with different shapes, (3) passing Python objects instead of tensors. For (1), please define your @tf.function outside of the loop. For (2), @tf.function has reduce_retracing=True option that can avoid unnecessary retracing. For (3), please refer to https://www.tensorflow.org/guide/function#controlling_retracing and https://www.tensorflow.org/api_docs/python/tf/function for  more details.\n",
      "Predicted Label:  5\n"
     ]
    },
    {
     "data": {
      "image/png": "[encoded data removed]",
      "text/plain": [
       "<Figure size 640x480 with 1 Axes>"
      ]
     },
     "metadata": {},
     "output_type": "display_data"
    },
    {
     "data": {
      "image/png": "[encoded data removed]",
      "text/plain": [
       "<Figure size 640x480 with 1 Axes>"
      ]
     },
     "metadata": {},
     "output_type": "display_data"
    }
   ],
   "source": [
    "# Run the densely connected network to see its prediction for the image.\n",
    "true_label = 3\n",
    "p_arr = predict_image(model, x)\n",
    "plot_value_array(p_arr, true_label, 1)"
   ]
  },
  {
   "cell_type": "code",
   "execution_count": 118,
   "metadata": {
    "id": "jXP3wsWCny1i"
   },
   "outputs": [
    {
     "name": "stdout",
     "output_type": "stream",
     "text": [
      "Predicted Label:  5\n"
     ]
    },
    {
     "data": {
      "image/png": "[encoded data removed]",
      "text/plain": [
       "<Figure size 640x480 with 1 Axes>"
      ]
     },
     "metadata": {},
     "output_type": "display_data"
    },
    {
     "data": {
      "image/png": "[encoded data removed]",
      "text/plain": [
       "<Figure size 640x480 with 1 Axes>"
      ]
     },
     "metadata": {},
     "output_type": "display_data"
    }
   ],
   "source": [
    "# Re-run the network to see the colors inverted.\n",
    "x_inv = 255-x\n",
    "arr = predict_image(model,x_inv)\n",
    "plot_value_array(arr,3,1)"
   ]
  },
  {
   "cell_type": "markdown",
   "metadata": {
    "id": "pAn0fNghn6VQ"
   },
   "source": [
    "# Data Preparation and Fixing the Flaws\n",
    "The network can correctly predict images, but only in a very specific set of parameters. Since all of the training images are white drawings with black backgrounds, when the network tries to guess what an image with a white background is, it has a much harder time making conclusions.\n",
    "\n",
    "For the next part, you'll invert *some* of the training data so that the network is able to practice on both white backgrounds and black backgrounds."
   ]
  },
  {
   "cell_type": "code",
   "execution_count": 119,
   "metadata": {
    "id": "EKR-ToDfqVOM"
   },
   "outputs": [],
   "source": [
    "# Create variables to keep track of the number rows and columns for each image.\n",
    "img_rows, img_cols = 28, 28"
   ]
  },
  {
   "cell_type": "code",
   "execution_count": 120,
   "metadata": {
    "id": "WVY0eg1fqZwj"
   },
   "outputs": [],
   "source": [
    "# Create a variable to keep track of the number of output classes.\n",
    "num_classes = 10"
   ]
  },
  {
   "cell_type": "code",
   "execution_count": 121,
   "metadata": {
    "id": "gqGw18oIqbrE"
   },
   "outputs": [],
   "source": [
    "# Load the train and test data, and a backup of each.\n",
    "(train_images, train_labels), (test_images, test_labels) = mnist.load_data()\n",
    "(train_images_backup, train_labels_backup), (test_images_backup, test_labels_backup) = mnist.load_data()"
   ]
  },
  {
   "cell_type": "code",
   "execution_count": 122,
   "metadata": {
    "id": "2N0eqBdVqdhr"
   },
   "outputs": [
    {
     "name": "stdout",
     "output_type": "stream",
     "text": [
      "(60000, 28, 28)\n",
      "(10000, 28, 28)\n"
     ]
    }
   ],
   "source": [
    "# Print the shape to confirm it's the right data.\n",
    "print(train_images.shape)\n",
    "print(test_images.shape)"
   ]
  },
  {
   "cell_type": "code",
   "execution_count": 123,
   "metadata": {
    "id": "k96xjsCMqgUW"
   },
   "outputs": [],
   "source": [
    "# Reshape the training and test data by converting the list of pixels into a 28x28 grid.\n",
    "train_images = train_images.reshape(train_images.shape[0], img_rows, img_cols,1)\n",
    "test_images = test_images.reshape(test_images.shape[0], img_rows, img_cols, 1)"
   ]
  },
  {
   "cell_type": "code",
   "execution_count": 124,
   "metadata": {
    "id": "8QxUJMq7qhyE"
   },
   "outputs": [],
   "source": [
    "# Create an input_shape variable to keep track of the data's shape.\n",
    "input_shape = (img_rows, img_cols, 1)"
   ]
  },
  {
   "cell_type": "code",
   "execution_count": 125,
   "metadata": {
    "id": "__-rpkj4qklD"
   },
   "outputs": [
    {
     "data": {
      "image/png": "[encoded data removed]",
      "text/plain": [
       "<Figure size 640x480 with 1 Axes>"
      ]
     },
     "metadata": {},
     "output_type": "display_data"
    },
    {
     "name": "stdout",
     "output_type": "stream",
     "text": [
      "0 255\n"
     ]
    }
   ],
   "source": [
    "# Call the plot_image function to print out the 3001 image in train_images.\n",
    "plot_image(train_images, 30001, train_labels)\n",
    "\n",
    "# Call the show_min_max function to display the min and max values of the image.\n",
    "show_min_max(train_images, 30001)"
   ]
  },
  {
   "cell_type": "code",
   "execution_count": 126,
   "metadata": {
    "id": "FNyG8pD7n7Cq"
   },
   "outputs": [],
   "source": [
    "# Invert the training data for the network to practice on white backgrounds and black backgrounds.\n",
    "train_images[30000:]=255-train_images[30000:]"
   ]
  },
  {
   "cell_type": "code",
   "execution_count": 127,
   "metadata": {
    "id": "HW9DQNVAqyj2"
   },
   "outputs": [],
   "source": [
    "# Change the image values to between 0 and 1, convert that training and test data into float32.\n",
    "train_images = train_images.astype('float32')\n",
    "test_images = test_images.astype('float32')"
   ]
  },
  {
   "cell_type": "code",
   "execution_count": 128,
   "metadata": {
    "id": "7EPZ8Q9Qq07S"
   },
   "outputs": [],
   "source": [
    "# Divide the images by 255 to make sure that each pixel is stored as a value between 0 and 1.\n",
    "train_images /=255\n",
    "test_images/= 255"
   ]
  },
  {
   "cell_type": "code",
   "execution_count": 129,
   "metadata": {
    "id": "YgfxsY4bq2q7"
   },
   "outputs": [
    {
     "data": {
      "image/png": "[encoded data removed]",
      "text/plain": [
       "<Figure size 640x480 with 1 Axes>"
      ]
     },
     "metadata": {},
     "output_type": "display_data"
    },
    {
     "name": "stdout",
     "output_type": "stream",
     "text": [
      "0.0 1.0\n"
     ]
    }
   ],
   "source": [
    "# With the adjusted data, call the plot_image function to print out the 3001 image in train_images.\n",
    "plot_image(train_images, 30001, train_labels)\n",
    "\n",
    "# With the adjusted data, call the show_min_max function to display the min and max values of the image.\n",
    "show_min_max(train_images, 30001)"
   ]
  },
  {
   "cell_type": "code",
   "execution_count": 130,
   "metadata": {
    "id": "P7HFxxjrrA10"
   },
   "outputs": [],
   "source": [
    "# Employ one-hot encoding on your training labels.\n",
    "train_labels = keras.utils.to_categorical(train_labels, num_classes)\n",
    "\n",
    "# Employ one-hot encoding on your test labels.\n",
    "test_labels = keras.utils.to_categorical(test_labels, num_classes)"
   ]
  },
  {
   "cell_type": "markdown",
   "metadata": {
    "id": "MSO_sOCTrJdM"
   },
   "source": [
    "# Re-training the Network\n",
    "Now that you've prepared your data again and fixed the flaws, you'll re-train your network by importing the sequential model and adding the layers."
   ]
  },
  {
   "cell_type": "markdown",
   "metadata": {
    "id": "gnmkUZwvt9fl"
   },
   "source": [
    "## Import Model and Layers"
   ]
  },
  {
   "cell_type": "code",
   "execution_count": 131,
   "metadata": {
    "id": "NrsgaisNrOMG"
   },
   "outputs": [],
   "source": [
    "# Import the Sequential model.\n",
    "from tensorflow.keras.models import Sequential\n",
    "\n",
    "# Import the Dense and Flatten layers.\n",
    "from tensorflow.keras.layers import Dense, Flatten"
   ]
  },
  {
   "cell_type": "code",
   "execution_count": 132,
   "metadata": {
    "id": "DUr_ClSWuBNS"
   },
   "outputs": [
    {
     "name": "stdout",
     "output_type": "stream",
     "text": [
      "Model: \"sequential_1\"\n",
      "_________________________________________________________________\n",
      " Layer (type)                Output Shape              Param #   \n",
      "=================================================================\n",
      " flatten_1 (Flatten)         (None, 784)               0         \n",
      "                                                                 \n",
      " dense_2 (Dense)             (None, 16)                12560     \n",
      "                                                                 \n",
      " dense_3 (Dense)             (None, 10)                170       \n",
      "                                                                 \n",
      "=================================================================\n",
      "Total params: 12730 (49.73 KB)\n",
      "Trainable params: 12730 (49.73 KB)\n",
      "Non-trainable params: 0 (0.00 Byte)\n",
      "_________________________________________________________________\n"
     ]
    }
   ],
   "source": [
    "# Create a variable called epochs and set the value as 10.\n",
    "epochs = 10\n",
    "\n",
    "# Create a new model object called model_inv using the Keras Sequential command.\n",
    "model_inv = Sequential()\n",
    "\n",
    "# Add a Flatten layer and pass the input shape as an argument.\n",
    "model_inv.add(Flatten(input_shape = input_shape))\n",
    "\n",
    "# Add a Dense layer to your network with the size of the layers in neurons and relu as the activation function.\n",
    "model_inv.add(Dense(16,activation='relu'))\n",
    "\n",
    "# Add an output layer.\n",
    "model_inv.add(Dense(10, activation='softmax'))\n",
    "\n",
    "# Print a summary of your network so far.\n",
    "model_inv.summary()"
   ]
  },
  {
   "cell_type": "markdown",
   "metadata": {
    "id": "jtyz1UzjvJh9"
   },
   "source": [
    "## Compile the Network"
   ]
  },
  {
   "cell_type": "code",
   "execution_count": 133,
   "metadata": {
    "id": "PIA4ro36veUh"
   },
   "outputs": [],
   "source": [
    "# Add the compile function that calculates the loss and uses the optimizer parameter to set the optimization algorithm.\n",
    "model_inv.compile(optimizer = 'adam',loss = tf.keras.losses.CategoricalCrossentropy(), metrics=['accuracy'])"
   ]
  },
  {
   "cell_type": "markdown",
   "metadata": {
    "id": "mex912gAv6AU"
   },
   "source": [
    "## Training"
   ]
  },
  {
   "cell_type": "code",
   "execution_count": 134,
   "metadata": {
    "id": "N2EzYVSXv8xv"
   },
   "outputs": [
    {
     "name": "stdout",
     "output_type": "stream",
     "text": [
      "Epoch 1/10\n",
      "1875/1875 [==============================] - 4s 2ms/step - loss: 1.4170 - accuracy: 0.4798\n",
      "Epoch 2/10\n",
      "1875/1875 [==============================] - 3s 2ms/step - loss: 1.0833 - accuracy: 0.5697\n",
      "Epoch 3/10\n",
      "1875/1875 [==============================] - 3s 2ms/step - loss: 1.0234 - accuracy: 0.5819\n",
      "Epoch 4/10\n",
      "1875/1875 [==============================] - 3s 2ms/step - loss: 0.9960 - accuracy: 0.5900\n",
      "Epoch 5/10\n",
      "1875/1875 [==============================] - 3s 2ms/step - loss: 0.9787 - accuracy: 0.5990\n",
      "Epoch 6/10\n",
      "1875/1875 [==============================] - 3s 2ms/step - loss: 0.8979 - accuracy: 0.6383\n",
      "Epoch 7/10\n",
      "1875/1875 [==============================] - 3s 2ms/step - loss: 0.8071 - accuracy: 0.6769\n",
      "Epoch 8/10\n",
      "1875/1875 [==============================] - 3s 2ms/step - loss: 0.7703 - accuracy: 0.6940\n",
      "Epoch 9/10\n",
      "1875/1875 [==============================] - 3s 2ms/step - loss: 0.7463 - accuracy: 0.7063\n",
      "Epoch 10/10\n",
      "1875/1875 [==============================] - 4s 2ms/step - loss: 0.7120 - accuracy: 0.7415\n"
     ]
    },
    {
     "data": {
      "text/plain": [
       "<keras.src.callbacks.History at 0x25102b6ca90>"
      ]
     },
     "execution_count": 134,
     "metadata": {},
     "output_type": "execute_result"
    }
   ],
   "source": [
    "# Add the fit function and set the input data for this model so the network doesn't rely on a pattern to learn.\n",
    "model_inv.fit(train_images, train_labels, epochs = epochs)"
   ]
  },
  {
   "cell_type": "markdown",
   "metadata": {
    "id": "X5xpiKzXwI7c"
   },
   "source": [
    "## Analyzing the Output"
   ]
  },
  {
   "cell_type": "code",
   "execution_count": 135,
   "metadata": {
    "id": "vvFKwRhTwJpY"
   },
   "outputs": [
    {
     "name": "stdout",
     "output_type": "stream",
     "text": [
      "313/313 - 1s - loss: 0.2060 - accuracy: 0.9423 - 670ms/epoch - 2ms/step\n",
      "\n",
      "Test accuracy:  0.942300021648407\n"
     ]
    }
   ],
   "source": [
    "# Calculate the loss and accuracy of your model.\n",
    "test_loss, test_acc = model_inv.evaluate(test_images, test_labels, verbose=2)\n",
    "\n",
    "# Print out the test accuracy.\n",
    "print('\\nTest accuracy: ', test_acc)"
   ]
  },
  {
   "cell_type": "markdown",
   "metadata": {
    "id": "c3D7yVDjwl5b"
   },
   "source": [
    "# Testing your Network\n",
    "With your network trained, you'll test the network and print a graph and a list with the predicted ranges."
   ]
  },
  {
   "cell_type": "code",
   "execution_count": 138,
   "metadata": {
    "id": "k2CP_BPlwr56"
   },
   "outputs": [
    {
     "name": "stdout",
     "output_type": "stream",
     "text": [
      "WARNING:tensorflow:6 out of the last 9 calls to <function Model.make_predict_function.<locals>.predict_function at 0x0000025102B360E0> triggered tf.function retracing. Tracing is expensive and the excessive number of tracings could be due to (1) creating @tf.function repeatedly in a loop, (2) passing tensors with different shapes, (3) passing Python objects instead of tensors. For (1), please define your @tf.function outside of the loop. For (2), @tf.function has reduce_retracing=True option that can avoid unnecessary retracing. For (3), please refer to https://www.tensorflow.org/guide/function#controlling_retracing and https://www.tensorflow.org/api_docs/python/tf/function for  more details.\n",
      "Predicted Label:  4\n"
     ]
    },
    {
     "data": {
      "image/png": "[encoded data removed]",
      "text/plain": [
       "<Figure size 640x480 with 1 Axes>"
      ]
     },
     "metadata": {},
     "output_type": "display_data"
    },
    {
     "data": {
      "image/png": "[encoded data removed]",
      "text/plain": [
       "<Figure size 640x480 with 1 Axes>"
      ]
     },
     "metadata": {},
     "output_type": "display_data"
    },
    {
     "name": "stdout",
     "output_type": "stream",
     "text": [
      "[[0.00251876 0.19161563 0.01381118 0.16591553 0.2122346  0.06492408\n",
      "  0.00780484 0.08188597 0.12645507 0.13283435]]\n"
     ]
    }
   ],
   "source": [
    "# Create a variable called arr to hold the network's predicted value.\n",
    "arr = predict_image(model_inv,x)\n",
    "\n",
    "# Plot the predicted values to a graph.\n",
    "plot_value_array(arr,3,1)\n",
    "\n",
    "# Print the list with the predicted values.\n",
    "print(arr)"
   ]
  },
  {
   "cell_type": "markdown",
   "metadata": {
    "id": "dCaj3IcuwXtu"
   },
   "source": [
    "# Exporting your Model\n",
    "Finally, you'll export your model and save it.\n"
   ]
  },
  {
   "cell_type": "code",
   "execution_count": 139,
   "metadata": {
    "id": "Wh_vewmbwYm8"
   },
   "outputs": [
    {
     "name": "stderr",
     "output_type": "stream",
     "text": [
      "C:\\Users\\Student\\AppData\\Local\\Programs\\Python\\Python310\\lib\\site-packages\\keras\\src\\engine\\training.py:3103: UserWarning: You are saving your model as an HDF5 file via `model.save()`. This file format is considered legacy. We recommend using instead the native Keras format, e.g. `model.save('my_model.keras')`.\n",
      "  saving_api.save_model(\n"
     ]
    }
   ],
   "source": [
    "# Export your model.\n",
    "model_inv.save('my_model_inv.h5')"
   ]
  }
 ],
 "metadata": {
  "colab": {
   "provenance": []
  },
  "kernelspec": {
   "display_name": "Python 3 (ipykernel)",
   "language": "python",
   "name": "python3"
  },
  "language_info": {
   "codemirror_mode": {
    "name": "ipython",
    "version": 3
   },
   "file_extension": ".py",
   "mimetype": "text/x-python",
   "name": "python",
   "nbconvert_exporter": "python",
   "pygments_lexer": "ipython3",
   "version": "3.10.0"
  }
 },
 "nbformat": 4,
 "nbformat_minor": 4
}
